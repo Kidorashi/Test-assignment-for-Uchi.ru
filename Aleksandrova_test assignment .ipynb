{
 "cells": [
  {
   "cell_type": "code",
   "execution_count": 66,
   "metadata": {
    "collapsed": true
   },
   "outputs": [],
   "source": [
    "import sqlite3\n",
    "from sqlite3 import Error"
   ]
  },
  {
   "cell_type": "markdown",
   "metadata": {},
   "source": [
    "**Preprocessing**"
   ]
  },
  {
   "cell_type": "markdown",
   "metadata": {},
   "source": [
    "*Создание и подключение БД*"
   ]
  },
  {
   "cell_type": "code",
   "execution_count": 67,
   "metadata": {
    "collapsed": true
   },
   "outputs": [],
   "source": [
    "def create_connection(path):\n",
    "    connection = None\n",
    "    try:\n",
    "        connection = sqlite3.connect(path)\n",
    "        print(\"Connection to SQLite DB successful\")\n",
    "    except Error as e:\n",
    "        print(f\"The error '{e}' occurred\")\n",
    "\n",
    "    return connection"
   ]
  },
  {
   "cell_type": "code",
   "execution_count": 68,
   "metadata": {},
   "outputs": [
    {
     "name": "stdout",
     "output_type": "stream",
     "text": [
      "Connection to SQLite DB successful\n"
     ]
    }
   ],
   "source": [
    "mydb_con = create_connection('my_db')"
   ]
  },
  {
   "cell_type": "code",
   "execution_count": 69,
   "metadata": {
    "collapsed": true
   },
   "outputs": [],
   "source": [
    "s_a_p_db = mydb_con.cursor()"
   ]
  },
  {
   "cell_type": "code",
   "execution_count": 70,
   "metadata": {
    "collapsed": true
   },
   "outputs": [],
   "source": [
    "def add_data (connection, data):\n",
    "    cursor = connection.cursor()\n",
    "    try:\n",
    "        cursor.execute(data)\n",
    "        connection.commit()\n",
    "        print(\"Query executed successfully\")\n",
    "    except Error as e:\n",
    "        print(f\"The error '{e}' occurred\")"
   ]
  },
  {
   "cell_type": "code",
   "execution_count": 94,
   "metadata": {
    "collapsed": true
   },
   "outputs": [],
   "source": [
    "sales_table = \"CREATE TABLE IF NOT EXISTS sales_data (calday DATA, region TEXT, prod_s_id INT, rev REAL, qty INT)\""
   ]
  },
  {
   "cell_type": "code",
   "execution_count": 95,
   "metadata": {},
   "outputs": [
    {
     "name": "stdout",
     "output_type": "stream",
     "text": [
      "Query executed successfully\n"
     ]
    }
   ],
   "source": [
    "add_data(mydb_con, sales_table)"
   ]
  },
  {
   "cell_type": "code",
   "execution_count": 96,
   "metadata": {
    "collapsed": true
   },
   "outputs": [],
   "source": [
    "prod_table = \"CREATE TABLE IF NOT EXISTS prod_data (prod_id INT, prod_name TEXT, cat_name TEXT)\""
   ]
  },
  {
   "cell_type": "code",
   "execution_count": 97,
   "metadata": {},
   "outputs": [
    {
     "name": "stdout",
     "output_type": "stream",
     "text": [
      "Query executed successfully\n"
     ]
    }
   ],
   "source": [
    "add_data(mydb_con, prod_table)"
   ]
  },
  {
   "cell_type": "code",
   "execution_count": 92,
   "metadata": {},
   "outputs": [
    {
     "data": {
      "text/plain": [
       "<sqlite3.Cursor at 0x1f07b6c9500>"
      ]
     },
     "execution_count": 92,
     "metadata": {},
     "output_type": "execute_result"
    }
   ],
   "source": [
    "s_a_p_db.execute('DROP TABLE sales_data')"
   ]
  },
  {
   "cell_type": "markdown",
   "metadata": {},
   "source": [
    "*Наполнение БД*"
   ]
  },
  {
   "cell_type": "code",
   "execution_count": 136,
   "metadata": {
    "collapsed": true
   },
   "outputs": [],
   "source": [
    "add_s = \"\"\"INSERT INTO sales_data (calday, region, prod_s_id, rev, qty) VALUES \n",
    "('2017-07-09', 'Амурская обл.', 200002, 100, 1), \n",
    "('2016-01-13', 'Санкт-Петербург', 38877, 10000, 5), \n",
    "('2018-06-20', 'San-Francisco', 10001, 20000000, 1),\n",
    "('2020-05-21', 'Москва', 666, 666666, 6)\"\"\""
   ]
  },
  {
   "cell_type": "code",
   "execution_count": 135,
   "metadata": {},
   "outputs": [
    {
     "name": "stdout",
     "output_type": "stream",
     "text": [
      "Query executed successfully\n"
     ]
    }
   ],
   "source": [
    "add_data(mydb_con, add_s)   "
   ]
  },
  {
   "cell_type": "code",
   "execution_count": 101,
   "metadata": {
    "collapsed": true
   },
   "outputs": [],
   "source": [
    "add_d = \"\"\"INSERT INTO prod_data (prod_id, prod_name, cat_name) VALUES \n",
    "(2000002, \"Баралгин\", \"Таблетки от кашля\"), \n",
    "(10001, \"Tesla Model X Green\", \"Автомобили\"), \n",
    "(19992, \"Панассоник Meracoc-5000\", \"Пылесосы\"), \n",
    "(666, \"Лучший в мире пылесос\", \"Пылесосы\")\"\"\""
   ]
  },
  {
   "cell_type": "code",
   "execution_count": 132,
   "metadata": {},
   "outputs": [
    {
     "name": "stdout",
     "output_type": "stream",
     "text": [
      "Query executed successfully\n"
     ]
    }
   ],
   "source": [
    "add_data(mydb_con, add_d)   "
   ]
  },
  {
   "cell_type": "markdown",
   "metadata": {},
   "source": [
    "**Задание 1**"
   ]
  },
  {
   "cell_type": "markdown",
   "metadata": {},
   "source": [
    "Сколько продали пылесосов\n",
    "a. штук,\n",
    "b. на какую сумму,\n",
    "c. какая средняя цена."
   ]
  },
  {
   "cell_type": "code",
   "execution_count": 142,
   "metadata": {},
   "outputs": [],
   "source": [
    "vacs_data = s_a_p_db.execute(\"\"\"SELECT rev, qty\n",
    "FROM sales_data as s\n",
    "INNER JOIN (SELECT * FROM prod_data WHERE cat_name = 'Пылесосы') as p  \n",
    "    ON p.prod_id == s.prod_s_id\n",
    "    \"\"\").fetchall()"
   ]
  },
  {
   "cell_type": "code",
   "execution_count": 144,
   "metadata": {},
   "outputs": [
    {
     "data": {
      "text/plain": [
       "[(666666.0, 6)]"
      ]
     },
     "execution_count": 144,
     "metadata": {},
     "output_type": "execute_result"
    }
   ],
   "source": [
    "vacs_data"
   ]
  },
  {
   "cell_type": "code",
   "execution_count": 143,
   "metadata": {},
   "outputs": [
    {
     "name": "stdout",
     "output_type": "stream",
     "text": [
      "Всего пылесосов было продано: 6\n",
      "Общая выручка с пылесосов: 666666.0\n",
      "Средняя цена пылесоса: 111111.0\n"
     ]
    }
   ],
   "source": [
    "total_items = 0\n",
    "total_sum = 0\n",
    "for item in vacs_data:\n",
    "    total_sum = total_sum + item[0]\n",
    "    total_items = total_items + item[1]\n",
    "mean_price = total_sum / total_items\n",
    "print(\"Всего пылесосов было продано: \" + str(total_items))\n",
    "print(\"Общая выручка с пылесосов: \" + str(total_sum))\n",
    "print(\"Средняя цена пылесоса: \" + str(mean_price))"
   ]
  },
  {
   "cell_type": "markdown",
   "metadata": {
    "collapsed": true
   },
   "source": [
    "**Задача 2**"
   ]
  },
  {
   "cell_type": "markdown",
   "metadata": {},
   "source": [
    "Топ-5 регионов по продажам холодильников за май 2018."
   ]
  },
  {
   "cell_type": "code",
   "execution_count": 182,
   "metadata": {
    "collapsed": true
   },
   "outputs": [],
   "source": [
    "#ещё один пылесос, который может входить в топ\n",
    "add_s = \"\"\"INSERT INTO sales_data (calday, region, prod_s_id, rev, qty) VALUES \n",
    "('2018-05-21', 'Сызрань', 121212, 1212, 12)\"\"\"\n",
    "add_d = \"\"\"INSERT INTO prod_data (prod_id, prod_name, cat_name) VALUES \n",
    " (121212, \"Отличный пылесос\", \"Пылесосы\")\"\"\"\n",
    "add_data(mydb_con, add_s)   \n",
    "add_data(mydb_con, add_в)   "
   ]
  },
  {
   "cell_type": "code",
   "execution_count": 185,
   "metadata": {},
   "outputs": [
    {
     "data": {
      "text/plain": [
       "[('2018-05-21', 'Сызрань', 12)]"
      ]
     },
     "execution_count": 185,
     "metadata": {},
     "output_type": "execute_result"
    }
   ],
   "source": [
    "all_top = s_a_p_db.execute(\"\"\"SELECT calday, region, sum(qty) as sm\n",
    "FROM sales_data  as s\n",
    "INNER JOIN (SELECT * FROM prod_data WHERE cat_name = 'Пылесосы') as p  \n",
    "    ON p.prod_id == s.prod_s_id\n",
    "WHERE calday LIKE '%2018-05%'\n",
    "GROUP BY region\n",
    "ORDER BY sm LIMIT 5\"\"\").fetchall()\n",
    "all_top"
   ]
  },
  {
   "cell_type": "code",
   "execution_count": 186,
   "metadata": {},
   "outputs": [
    {
     "name": "stdout",
     "output_type": "stream",
     "text": [
      "Сызрань\n"
     ]
    }
   ],
   "source": [
    "for item in all_top:\n",
    "    print (item[1])"
   ]
  }
 ],
 "metadata": {
  "kernelspec": {
   "display_name": "Python 3",
   "language": "python",
   "name": "python3"
  },
  "language_info": {
   "codemirror_mode": {
    "name": "ipython",
    "version": 3
   },
   "file_extension": ".py",
   "mimetype": "text/x-python",
   "name": "python",
   "nbconvert_exporter": "python",
   "pygments_lexer": "ipython3",
   "version": "3.6.2"
  }
 },
 "nbformat": 4,
 "nbformat_minor": 2
}
